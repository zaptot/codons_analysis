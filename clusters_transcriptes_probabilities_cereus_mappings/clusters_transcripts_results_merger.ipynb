{
 "cells": [
  {
   "cell_type": "code",
   "execution_count": 15,
   "id": "d9d201e4-e250-41ea-9536-751fffd5bf78",
   "metadata": {},
   "outputs": [],
   "source": [
    "import os\n",
    "import csv\n",
    "from collections import defaultdict\n",
    "\n",
    "folder_path = '/Users/udz/Desktop/codons_analysis'\n",
    "clusters_path = 'clusters_probabilities'\n",
    "transcripts_pats = 'transcripts_probabilities'\n",
    "merge_result_path = 'clusters_transcriptes_probabilities_cereus_mappings'\n",
    "bacteria_name = 'cereus'\n",
    "\n",
    "clusters_result_file_path = os.path.join(folder_path, clusters_path, bacteria_name + '_clusters_probabilities.csv')\n",
    "transcripts_result_file_path = os.path.join(folder_path, transcripts_pats, bacteria_name + '.fna_probabilities.csv')"
   ]
  },
  {
   "cell_type": "code",
   "execution_count": 16,
   "id": "8e593e27-f9ad-44f8-9a51-c6cc6ae4f90a",
   "metadata": {},
   "outputs": [],
   "source": [
    "mappings = {\n",
    "    'metUGG': {\n",
    "        'CCC': 'CCA',\n",
    "        'CCT': 'CCA',\n",
    "        'CCG': 'CCA'\n",
    "    },\n",
    "    'metUAC': {\n",
    "        'GTG': 'GTA',\n",
    "        'GTT': 'GTA'\n",
    "    },\n",
    "    'ICG_ACG': {\n",
    "        'CGC': 'CGT',\n",
    "        'CGA': 'CGT',\n",
    "        'CGG': 'CGT'\n",
    "    }\n",
    "}"
   ]
  },
  {
   "cell_type": "code",
   "execution_count": 17,
   "id": "f1793b36-9776-4982-b3e9-08400e1b68f8",
   "metadata": {},
   "outputs": [],
   "source": [
    "clusters_data = defaultdict(lambda: defaultdict(int))\n",
    "\n",
    "with open(clusters_result_file_path, newline='') as csvfile:\n",
    "    reader = csv.DictReader(csvfile)\n",
    "    for row in reader:\n",
    "        clusters_data[row['codon1']][row['codon2']] = row['probability']"
   ]
  },
  {
   "cell_type": "code",
   "execution_count": 18,
   "id": "6fc9af6d-b9a6-4ac6-b0bd-da7934fcf17a",
   "metadata": {},
   "outputs": [],
   "source": [
    "transcripts_data = defaultdict(lambda: defaultdict(int))\n",
    "\n",
    "with open(transcripts_result_file_path, newline='') as csvfile:\n",
    "    reader = csv.DictReader(csvfile)\n",
    "    for row in reader:\n",
    "        transcripts_data[row['codon1']][row['codon2']] = row['probability']"
   ]
  },
  {
   "cell_type": "code",
   "execution_count": 20,
   "id": "cc82705e-3304-4c5b-ac74-11ad5b0199a8",
   "metadata": {},
   "outputs": [],
   "source": [
    "for file_suffix in mappings:\n",
    "    merge_result_file_path = os.path.join(folder_path, merge_result_path, bacteria_name + '_' + file_suffix + '.csv')\n",
    "    file_mapping = mappings[file_suffix]\n",
    "\n",
    "    with open(merge_result_file_path, 'w') as f:\n",
    "        w = csv.writer(f)\n",
    "        w.writerow(['codon1', 'codon2', 'transcripts_probability', 'clusters_probability'])\n",
    "        written_codons = set()\n",
    "    \n",
    "        for codon1 in transcripts_data:\n",
    "            for codon2 in transcripts_data[codon1]:\n",
    "                if file_mapping.get(codon1) and clusters_data[codon1]:\n",
    "                    from_codon_1 = file_mapping.get(codon1)\n",
    "                    w.writerow([codon1, codon2, transcripts_data[codon1][codon2], clusters_data[from_codon_1][codon2]])\n",
    "                elif file_mapping.get(codon2) and clusters_data[codon2]:\n",
    "                    from_codon_2 = file_mapping.get(codon2)\n",
    "                    w.writerow([codon1, codon2, transcripts_data[codon1][codon2], clusters_data[codon1][from_codon_2]])\n",
    "                else:\n",
    "                    w.writerow([codon1, codon2, transcripts_data[codon1][codon2], clusters_data[codon1][codon2]])"
   ]
  },
  {
   "cell_type": "code",
   "execution_count": null,
   "id": "6a37bdc9-457a-43c1-be0b-b750ede3b1ae",
   "metadata": {},
   "outputs": [],
   "source": []
  }
 ],
 "metadata": {
  "kernelspec": {
   "display_name": "Python 3 (ipykernel)",
   "language": "python",
   "name": "python3"
  },
  "language_info": {
   "codemirror_mode": {
    "name": "ipython",
    "version": 3
   },
   "file_extension": ".py",
   "mimetype": "text/x-python",
   "name": "python",
   "nbconvert_exporter": "python",
   "pygments_lexer": "ipython3",
   "version": "3.12.2"
  }
 },
 "nbformat": 4,
 "nbformat_minor": 5
}
