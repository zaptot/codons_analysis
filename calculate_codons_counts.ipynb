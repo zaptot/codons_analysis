{
 "cells": [
  {
   "cell_type": "code",
   "execution_count": 1,
   "id": "40357dd2-cc8c-4d01-a0b6-f7d5baed892c",
   "metadata": {},
   "outputs": [],
   "source": [
    "import os\n",
    "import csv\n",
    "from collections import defaultdict\n",
    "from Bio import SeqIO\n",
    "\n",
    "folder_path = '/Users/udz/Desktop/codons_analysis/transcripts_probabilities'\n",
    "file_name = 'subtilis.fna'\n",
    "file_path = os.path.join(folder_path, file_name)"
   ]
  },
  {
   "cell_type": "code",
   "execution_count": 10,
   "id": "46854c83-fcdd-4d41-97c2-bc9de410f780",
   "metadata": {},
   "outputs": [
    {
     "name": "stdout",
     "output_type": "stream",
     "text": [
      "[Seq('ATG'), Seq('GAA'), Seq('AAT'), Seq('ATA'), Seq('TTA'), Seq('GAC'), Seq('CTG'), Seq('TGG'), Seq('AAC'), Seq('CAA'), Seq('GCC'), Seq('CTT'), Seq('GCT'), Seq('CAA'), Seq('ATC'), Seq('GAA'), Seq('AAA'), Seq('AAG'), Seq('TTG'), Seq('AGC'), Seq('AAA'), Seq('CCG'), Seq('AGT'), Seq('TTT'), Seq('GAG'), Seq('ACT'), Seq('TGG'), Seq('ATG'), Seq('AAG'), Seq('TCA'), Seq('ACC'), Seq('AAA'), Seq('GCC'), Seq('CAC'), Seq('TCA'), Seq('CTG'), Seq('CAA'), Seq('GGC'), Seq('GAT'), Seq('ACA'), Seq('TTA'), Seq('ACA'), Seq('ATC'), Seq('ACG'), Seq('GCT'), Seq('CCC'), Seq('AAT'), Seq('GAA'), Seq('TTT'), Seq('GCC'), Seq('AGA'), Seq('GAC'), Seq('TGG'), Seq('CTG'), Seq('GAG'), Seq('TCC'), Seq('AGA'), Seq('TAC'), Seq('TTG'), Seq('CAT'), Seq('CTG'), Seq('ATT'), Seq('GCA'), Seq('GAT'), Seq('ACT'), Seq('ATA'), Seq('TAT'), Seq('GAA'), Seq('TTA'), Seq('ACC'), Seq('GGG'), Seq('GAA'), Seq('GAA'), Seq('TTG'), Seq('AGC'), Seq('ATT'), Seq('AAG'), Seq('TTT'), Seq('GTC'), Seq('ATT'), Seq('CCT'), Seq('CAA'), Seq('AAT'), Seq('CAA'), Seq('GAT'), Seq('GTT'), Seq('GAG'), Seq('GAC'), Seq('TTT'), Seq('ATG'), Seq('CCG'), Seq('AAA'), Seq('CCG'), Seq('CAA'), Seq('GTC'), Seq('AAA'), Seq('AAA'), Seq('GCG'), Seq('GTC'), Seq('AAA'), Seq('GAA'), Seq('GAT'), Seq('ACA'), Seq('TCT'), Seq('GAT'), Seq('TTT'), Seq('CCT'), Seq('CAA'), Seq('AAT'), Seq('ATG'), Seq('CTC'), Seq('AAT'), Seq('CCA'), Seq('AAA'), Seq('TAT'), Seq('ACT'), Seq('TTT'), Seq('GAT'), Seq('ACT'), Seq('TTT'), Seq('GTC'), Seq('ATC'), Seq('GGA'), Seq('TCT'), Seq('GGA'), Seq('AAC'), Seq('CGA'), Seq('TTT'), Seq('GCA'), Seq('CAT'), Seq('GCT'), Seq('GCT'), Seq('TCC'), Seq('CTC'), Seq('GCA'), Seq('GTA'), Seq('GCG'), Seq('GAA'), Seq('GCG'), Seq('CCC'), Seq('GCG'), Seq('AAA'), Seq('GCT'), Seq('TAC'), Seq('AAC'), Seq('CCT'), Seq('TTA'), Seq('TTT'), Seq('ATC'), Seq('TAT'), Seq('GGG'), Seq('GGC'), Seq('GTC'), Seq('GGC'), Seq('TTA'), Seq('GGG'), Seq('AAA'), Seq('ACA'), Seq('CAC'), Seq('TTA'), Seq('ATG'), Seq('CAT'), Seq('GCG'), Seq('ATC'), Seq('GGC'), Seq('CAT'), Seq('TAT'), Seq('GTA'), Seq('ATA'), Seq('GAT'), Seq('CAT'), Seq('AAT'), Seq('CCT'), Seq('TCT'), Seq('GCC'), Seq('AAA'), Seq('GTG'), Seq('GTT'), Seq('TAT'), Seq('CTG'), Seq('TCT'), Seq('TCT'), Seq('GAG'), Seq('AAA'), Seq('TTT'), Seq('ACA'), Seq('AAC'), Seq('GAA'), Seq('TTC'), Seq('ATC'), Seq('AAC'), Seq('TCT'), Seq('ATC'), Seq('CGA'), Seq('GAT'), Seq('AAT'), Seq('AAA'), Seq('GCC'), Seq('GTC'), Seq('GAC'), Seq('TTC'), Seq('CGC'), Seq('AAT'), Seq('CGC'), Seq('TAT'), Seq('CGA'), Seq('AAT'), Seq('GTT'), Seq('GAT'), Seq('GTG'), Seq('CTT'), Seq('TTG'), Seq('ATA'), Seq('GAT'), Seq('GAT'), Seq('ATT'), Seq('CAA'), Seq('TTT'), Seq('TTA'), Seq('GCG'), Seq('GGG'), Seq('AAA'), Seq('GAA'), Seq('CAA'), Seq('ACC'), Seq('CAG'), Seq('GAA'), Seq('GAA'), Seq('TTT'), Seq('TTC'), Seq('CAT'), Seq('ACA'), Seq('TTT'), Seq('AAC'), Seq('ACA'), Seq('TTA'), Seq('CAC'), Seq('GAA'), Seq('GAA'), Seq('AGC'), Seq('AAA'), Seq('CAA'), Seq('ATC'), Seq('GTC'), Seq('ATT'), Seq('TCA'), Seq('AGT'), Seq('GAC'), Seq('CGG'), Seq('CCG'), Seq('CCA'), Seq('AAG'), Seq('GAA'), Seq('ATT'), Seq('CCG'), Seq('ACA'), Seq('CTT'), Seq('GAA'), Seq('GAC'), Seq('AGA'), Seq('TTG'), Seq('CGC'), Seq('TCA'), Seq('CGT'), Seq('TTT'), Seq('GAA'), Seq('TGG'), Seq('GGA'), Seq('CTT'), Seq('ATT'), Seq('ACA'), Seq('GAT'), Seq('ATC'), Seq('ACA'), Seq('CCG'), Seq('CCT'), Seq('GAT'), Seq('CTA'), Seq('GAA'), Seq('ACG'), Seq('AGA'), Seq('ATT'), Seq('GCA'), Seq('ATT'), Seq('TTA'), Seq('AGA'), Seq('AAA'), Seq('AAG'), Seq('GCC'), Seq('AAA'), Seq('GCA'), Seq('GAG'), Seq('GGC'), Seq('CTC'), Seq('GAT'), Seq('ATT'), Seq('CCG'), Seq('AAC'), Seq('GAG'), Seq('GTT'), Seq('ATG'), Seq('CTT'), Seq('TAC'), Seq('ATC'), Seq('GCG'), Seq('AAT'), Seq('CAA'), Seq('ATC'), Seq('GAC'), Seq('AGC'), Seq('AAT'), Seq('ATT'), Seq('CGG'), Seq('GAA'), Seq('CTC'), Seq('GAA'), Seq('GGA'), Seq('GCA'), Seq('TTA'), Seq('ATC'), Seq('AGA'), Seq('GTT'), Seq('GTC'), Seq('GCT'), Seq('TAT'), Seq('TCA'), Seq('TCT'), Seq('TTA'), Seq('ATT'), Seq('AAT'), Seq('AAA'), Seq('GAT'), Seq('ATT'), Seq('AAT'), Seq('GCT'), Seq('GAT'), Seq('CTG'), Seq('GCC'), Seq('GCT'), Seq('GAG'), Seq('GCG'), Seq('TTG'), Seq('AAA'), Seq('GAT'), Seq('ATT'), Seq('ATT'), Seq('CCT'), Seq('TCC'), Seq('TCA'), Seq('AAA'), Seq('CCG'), Seq('AAA'), Seq('GTC'), Seq('ATT'), Seq('ACG'), Seq('ATA'), Seq('AAA'), Seq('GAA'), Seq('ATT'), Seq('CAG'), Seq('AGG'), Seq('GTA'), Seq('GTA'), Seq('GGC'), Seq('CAG'), Seq('CAA'), Seq('TTT'), Seq('AAT'), Seq('ATT'), Seq('AAA'), Seq('CTC'), Seq('GAG'), Seq('GAT'), Seq('TTC'), Seq('AAA'), Seq('GCA'), Seq('AAA'), Seq('AAA'), Seq('CGG'), Seq('ACA'), Seq('AAG'), Seq('TCA'), Seq('GTA'), Seq('GCT'), Seq('TTT'), Seq('CCG'), Seq('CGT'), Seq('CAA'), Seq('ATC'), Seq('GCC'), Seq('ATG'), Seq('TAC'), Seq('TTA'), Seq('TCA'), Seq('AGG'), Seq('GAA'), Seq('ATG'), Seq('ACT'), Seq('GAT'), Seq('TCC'), Seq('TCT'), Seq('CTT'), Seq('CCT'), Seq('AAA'), Seq('ATC'), Seq('GGT'), Seq('GAA'), Seq('GAG'), Seq('TTT'), Seq('GGA'), Seq('GGA'), Seq('CGT'), Seq('GAT'), Seq('CAT'), Seq('ACG'), Seq('ACC'), Seq('GTT'), Seq('ATT'), Seq('CAT'), Seq('GCG'), Seq('CAT'), Seq('GAA'), Seq('AAA'), Seq('ATT'), Seq('TCA'), Seq('AAA'), Seq('CTG'), Seq('CTG'), Seq('GCA'), Seq('GAT'), Seq('GAT'), Seq('GAA'), Seq('CAG'), Seq('CTT'), Seq('CAG'), Seq('CAG'), Seq('CAT'), Seq('GTA'), Seq('AAA'), Seq('GAA'), Seq('ATT'), Seq('AAA'), Seq('GAA'), Seq('CAG'), Seq('CTT'), Seq('AAA'), Seq('TAG')]\n"
     ]
    }
   ],
   "source": [
    "transcripts = []\n",
    "\n",
    "for seq_record in SeqIO.parse(file_path, \"fasta\"):\n",
    "    seq = seq_record.seq\n",
    "    print([seq[i:i+3] for i in range(0, len(seq) - 1, 3)])\n",
    "    codons = [seq[i:i+3] for i in range(0, len(seq) - 1, 3)]\n",
    "\n",
    "    transcripts.append(set(codons))\n",
    "    break"
   ]
  },
  {
   "cell_type": "code",
   "execution_count": 7,
   "id": "462b7146-3751-4ad2-b237-95513239fcc7",
   "metadata": {},
   "outputs": [
    {
     "name": "stdout",
     "output_type": "stream",
     "text": [
      "[{Seq('GAG'), Seq('CGG'), Seq('CTA'), Seq('CTT'), Seq('AAG'), Seq('CAT'), Seq('CGA'), Seq('GAC'), Seq('ACT'), Seq('TTG'), Seq('ACG'), Seq('TAT'), Seq('CGC'), Seq('GTG'), Seq('AGG'), Seq('ACC'), Seq('CAA'), Seq('ATT'), Seq('CAG'), Seq('TCA'), Seq('TCT'), Seq('CGT'), Seq('AGT'), Seq('GTC'), Seq('TGG'), Seq('CTC'), Seq('GCT'), Seq('CCG'), Seq('TTC'), Seq('ATC'), Seq('ATG'), Seq('GGG'), Seq('GAA'), Seq('TCC'), Seq('GCC'), Seq('CCC'), Seq('GTA'), Seq('TTA'), Seq('AAC'), Seq('TAG'), Seq('AAT'), Seq('AAA'), Seq('TTT'), Seq('CAC'), Seq('ACA'), Seq('TAC'), Seq('GCA'), Seq('GTT'), Seq('ATA'), Seq('CTG'), Seq('GCG'), Seq('GGC'), Seq('CCT'), Seq('CCA'), Seq('GGA'), Seq('AGA'), Seq('GGT'), Seq('GAT'), Seq('AGC')}]\n"
     ]
    }
   ],
   "source": [
    "print(transcripts)"
   ]
  }
 ],
 "metadata": {
  "kernelspec": {
   "display_name": "Python 3 (ipykernel)",
   "language": "python",
   "name": "python3"
  },
  "language_info": {
   "codemirror_mode": {
    "name": "ipython",
    "version": 3
   },
   "file_extension": ".py",
   "mimetype": "text/x-python",
   "name": "python",
   "nbconvert_exporter": "python",
   "pygments_lexer": "ipython3",
   "version": "3.12.2"
  }
 },
 "nbformat": 4,
 "nbformat_minor": 5
}
