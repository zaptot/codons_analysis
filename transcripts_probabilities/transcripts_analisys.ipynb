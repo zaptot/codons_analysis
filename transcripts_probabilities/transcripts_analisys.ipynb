{
 "cells": [
  {
   "cell_type": "code",
   "execution_count": 30,
   "id": "b1eeeaa1-16b4-4414-b1dd-de943457917e",
   "metadata": {},
   "outputs": [],
   "source": [
    "import os\n",
    "import csv\n",
    "from collections import defaultdict\n",
    "from Bio import SeqIO\n",
    "\n",
    "folder_path = '/Users/udz/Desktop/codons_analysis/transcripts_probabilities'\n",
    "file_name = 'thuringiensis.fna'\n",
    "file_path = os.path.join(folder_path, file_name)"
   ]
  },
  {
   "cell_type": "code",
   "execution_count": 31,
   "id": "5270baf9-5f04-46fb-9734-6b6d14d76a87",
   "metadata": {},
   "outputs": [],
   "source": [
    "transcripts = []\n",
    "\n",
    "for seq_record in SeqIO.parse(file_path, \"fasta\"):\n",
    "    seq = seq_record.seq\n",
    "    codons = [seq[i:i+3] for i in range(0, len(seq) - 1, 3)]\n",
    "\n",
    "    transcripts.append(set(codons))"
   ]
  },
  {
   "cell_type": "code",
   "execution_count": 32,
   "id": "225d3442-ec83-47a6-8373-b65b5349d69f",
   "metadata": {},
   "outputs": [],
   "source": [
    "all_codons = set()\n",
    "\n",
    "for transcript in transcripts:\n",
    "    for codon in transcript:\n",
    "        all_codons.add(codon)\n",
    "\n",
    "# print(all_codons)"
   ]
  },
  {
   "cell_type": "code",
   "execution_count": 33,
   "id": "aba14f9d-4525-4f4c-b385-f756dd6ea275",
   "metadata": {},
   "outputs": [],
   "source": [
    "# res(c1,c2) = (p(c1 & c2) / p(c1) * p(c2))\n",
    "\n",
    "p_single = defaultdict(int)\n",
    "p_double = defaultdict(lambda: defaultdict(int))\n",
    "\n",
    "for codon in all_codons:\n",
    "    counts_of_occurs = 0\n",
    "    for transcript in transcripts:\n",
    "        if codon in transcript:\n",
    "            counts_of_occurs += 1\n",
    "\n",
    "    p_single[codon] = counts_of_occurs / len(transcripts)\n",
    "\n",
    "# print(p_single)\n",
    "\n",
    "for codon1 in all_codons:\n",
    "    for codon2 in all_codons:\n",
    "        counts_of_occurs = 0\n",
    "        for transcript in transcripts:\n",
    "            if (codon1 in transcript) and (codon2 in transcript):\n",
    "                counts_of_occurs += 1\n",
    "        p_double[codon1][codon2] = counts_of_occurs / len(transcripts)\n",
    "\n",
    "# print(p_double)"
   ]
  },
  {
   "cell_type": "code",
   "execution_count": 34,
   "id": "aa3e40a2-7232-4d75-b2e3-074e044044eb",
   "metadata": {},
   "outputs": [],
   "source": [
    "res = defaultdict(lambda: defaultdict(int))\n",
    "\n",
    "for codon1 in all_codons:\n",
    "    for codon2 in all_codons:\n",
    "        res[codon1][codon2] = p_double[codon1][codon2] / (p_single[codon1] * p_single[codon2])\n",
    "\n",
    "# print(res)"
   ]
  },
  {
   "cell_type": "code",
   "execution_count": 36,
   "id": "a7d38acb-2877-423a-b935-8f38a13749ad",
   "metadata": {},
   "outputs": [],
   "source": [
    "csv_file_path = file_path + '_probabilities.csv'\n",
    "\n",
    "with open(csv_file_path, 'w') as f:\n",
    "    w = csv.writer(f)\n",
    "    w.writerow(['codon1', 'codon2', 'probability'])\n",
    "    written_codons = set()\n",
    "\n",
    "    for codon1 in all_codons:\n",
    "        for codon2 in all_codons:\n",
    "            if (codon2 in written_codons) or (codon1 == codon2):\n",
    "                continue\n",
    "            w.writerow([codon1, codon2, res[codon1][codon2]])\n",
    "        written_codons.add(codon1)"
   ]
  }
 ],
 "metadata": {
  "kernelspec": {
   "display_name": "Python 3 (ipykernel)",
   "language": "python",
   "name": "python3"
  },
  "language_info": {
   "codemirror_mode": {
    "name": "ipython",
    "version": 3
   },
   "file_extension": ".py",
   "mimetype": "text/x-python",
   "name": "python",
   "nbconvert_exporter": "python",
   "pygments_lexer": "ipython3",
   "version": "3.12.2"
  }
 },
 "nbformat": 4,
 "nbformat_minor": 5
}
