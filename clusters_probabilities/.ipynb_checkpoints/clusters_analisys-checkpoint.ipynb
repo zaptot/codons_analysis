{
 "cells": [
  {
   "cell_type": "code",
   "execution_count": 20,
   "id": "e3f4edc8-be1f-40eb-a756-e537940650ea",
   "metadata": {},
   "outputs": [],
   "source": [
    "import os\n",
    "import csv\n",
    "from collections import defaultdict\n",
    "\n",
    "folder_path = '/Users/udz/Desktop/codons_analysis/clusters_probabilities'\n",
    "file_name = 'thuringiensis_clusters'\n",
    "file_path = os.path.join(folder_path, file_name)"
   ]
  },
  {
   "cell_type": "code",
   "execution_count": 21,
   "id": "23b22c0e-612a-46e8-9482-8c665f198f8d",
   "metadata": {},
   "outputs": [],
   "source": [
    "clusters = []\n",
    "\n",
    "file = open(file_path, \"r\")\n",
    "while file:\n",
    "    line = file.readline().strip()\n",
    "    if line == '':\n",
    "        break\n",
    "\n",
    "    line_codons = [line[i:i+3] for i in range(0, len(line) - 1, 3)]\n",
    "    clusters.append(line_codons)\n",
    "\n",
    "# print(clusters)"
   ]
  },
  {
   "cell_type": "code",
   "execution_count": 22,
   "id": "aff411d4-a0eb-45c3-807c-a95b580ed276",
   "metadata": {},
   "outputs": [],
   "source": [
    "all_codons = set()\n",
    "\n",
    "for cluster in clusters:\n",
    "    for codon in cluster:\n",
    "        all_codons.add(codon)\n",
    "\n",
    "# print(all_codons)"
   ]
  },
  {
   "cell_type": "code",
   "execution_count": 23,
   "id": "cf19291e-22cb-43b6-9b7d-b270b1e7066e",
   "metadata": {},
   "outputs": [],
   "source": [
    "# res(c1,c2) = (p(c1 & c2) / p(c1) * p(c2))\n",
    "\n",
    "p_single = defaultdict(int)\n",
    "p_double = defaultdict(lambda: defaultdict(int))\n",
    "\n",
    "for codon in all_codons:\n",
    "    counts_of_occurs = 0\n",
    "    for cluster in clusters:\n",
    "        if codon in cluster:\n",
    "            counts_of_occurs += 1\n",
    "\n",
    "    p_single[codon] = counts_of_occurs / len(clusters)\n",
    "\n",
    "# print(p_single)\n",
    "\n",
    "for codon1 in all_codons:\n",
    "    for codon2 in all_codons:\n",
    "        counts_of_occurs = 0\n",
    "        for cluster in clusters:\n",
    "            if (codon1 in cluster) and (codon2 in cluster):\n",
    "                counts_of_occurs += 1\n",
    "        p_double[codon1][codon2] = counts_of_occurs / len(clusters)\n",
    "\n",
    "# print(p_double)"
   ]
  },
  {
   "cell_type": "code",
   "execution_count": 24,
   "id": "55f77365-71a8-40c2-85d7-76516df77a90",
   "metadata": {},
   "outputs": [],
   "source": [
    "res = defaultdict(lambda: defaultdict(int))\n",
    "\n",
    "for codon1 in all_codons:\n",
    "    for codon2 in all_codons:\n",
    "        res[codon1][codon2] = p_double[codon1][codon2] / (p_single[codon1] * p_single[codon2])\n",
    "\n",
    "# print(res)"
   ]
  },
  {
   "cell_type": "code",
   "execution_count": 25,
   "id": "2fbb2674-dc46-434a-a805-0d7a3007e79d",
   "metadata": {},
   "outputs": [],
   "source": [
    "csv_file_path = file_path + '_probabilities.csv'\n",
    "\n",
    "with open(csv_file_path,'w') as f:\n",
    "    w = csv.writer(f)\n",
    "    w.writerow(['codon1', 'codon2', 'probability'])\n",
    "    written_codons = set()\n",
    "\n",
    "    for codon1 in all_codons:\n",
    "        for codon2 in all_codons:\n",
    "            if (codon2 in written_codons) or (codon1 == codon2):\n",
    "                continue\n",
    "            w.writerow([codon1, codon2, res[codon1][codon2]])\n",
    "        written_codons.add(codon1)"
   ]
  }
 ],
 "metadata": {
  "kernelspec": {
   "display_name": "Python 3 (ipykernel)",
   "language": "python",
   "name": "python3"
  },
  "language_info": {
   "codemirror_mode": {
    "name": "ipython",
    "version": 3
   },
   "file_extension": ".py",
   "mimetype": "text/x-python",
   "name": "python",
   "nbconvert_exporter": "python",
   "pygments_lexer": "ipython3",
   "version": "3.12.2"
  }
 },
 "nbformat": 4,
 "nbformat_minor": 5
}
