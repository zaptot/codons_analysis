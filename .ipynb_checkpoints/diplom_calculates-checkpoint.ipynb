{
 "cells": [
  {
   "cell_type": "code",
   "execution_count": 1,
   "id": "0797b4df",
   "metadata": {},
   "outputs": [],
   "source": [
    "from Bio import SeqIO\n",
    "from collections import Counter\n",
    "from collections import defaultdict\n",
    "import os\n",
    "\n",
    "dataset_path = \"/Users/zaptot/Desktop/diplom\"\n",
    "file_name = \"cereus.fna\"\n",
    "file_path = os.path.join(dataset_path, file_name)"
   ]
  },
  {
   "cell_type": "code",
   "execution_count": 2,
   "id": "1ad42146",
   "metadata": {},
   "outputs": [],
   "source": [
    "def generate_codons(deep = 2):\n",
    "    bases = ['A', 'T', 'G', 'C']\n",
    "    codons_to_skip = ['TAA', 'TAG', 'TGA']\n",
    "    if deep == 0:\n",
    "        return bases\n",
    "    \n",
    "    res = []\n",
    "    for i in range(0, len(bases)):\n",
    "        current_base = bases[i]\n",
    "        for suffix in generate_codons(deep - 1):\n",
    "            codon = current_base + suffix\n",
    "            if codon in codons_to_skip:\n",
    "                next\n",
    "\n",
    "            res.append(codon)\n",
    "    return res\n",
    "\n",
    "def generate_table():\n",
    "    table = defaultdict(lambda: defaultdict(int))\n",
    "    codons = generate_codons()\n",
    "\n",
    "    for codon1 in codons:\n",
    "        for codon2 in codons:\n",
    "            table[codon1][codon2] = 0\n",
    "    return table"
   ]
  },
  {
   "cell_type": "code",
   "execution_count": 3,
   "id": "c068faba",
   "metadata": {},
   "outputs": [],
   "source": [
    "def codons_counts(seq):\n",
    "    all_codons = [str(seq[i:i + 3]) for i in range(0, len(seq), 3)]\n",
    "    return Counter(all_codons)\n",
    "\n",
    "def codons_coorurrencies(seq):\n",
    "    res = defaultdict(lambda: defaultdict(int))\n",
    "    prev_codon = ''\n",
    "\n",
    "    for i in range(0, len(seq), 3):\n",
    "        prev_codon = seq[i - 3: i] if i > 0 else ''\n",
    "        next_codon = seq[i + 3: i + 6] if i + 4 < len(seq) else ''\n",
    "        current_codon = seq[i:i + 3]\n",
    "        \n",
    "        if prev_codon != '':\n",
    "            res[prev_codon][current_codon] += 0.5\n",
    "            res[current_codon][prev_codon] += 0.5\n",
    "        \n",
    "        if next_codon != '':\n",
    "            res[next_codon][current_codon] += 0.5\n",
    "            res[current_codon][next_codon] += 0.5\n",
    "    return res\n",
    "\n",
    "\n",
    "\n",
    "def codons_percents(counts):\n",
    "    all_count = sum([counts[i] for i in counts])\n",
    "    res = defaultdict(lambda: defaultdict(int))\n",
    "    for codon_1 in counts:\n",
    "        for codon_2 in counts:\n",
    "            res[codon_1][codon_2] = (counts[codon_1] * counts[codon_2]) / (all_count ** 2)\n",
    "    return res\n",
    "\n",
    "def add_table(base_table, table_to_add):\n",
    "    for codon1 in table_to_add:\n",
    "        for codon2 in table_to_add[codon1]:\n",
    "            base_table[codon1][codon2] += table_to_add[codon1][codon2]\n",
    "    return base_table\n",
    "\n",
    "def sum_tables(default_table, table1, table2):\n",
    "    res_table = add_table(default_table, table1)\n",
    "    return add_table(res_table, table2)\n",
    "\n",
    "def divide_each_value_in_table(table, divider):\n",
    "    for i in table:\n",
    "        for j in table[i]:\n",
    "            table[i][j] /= divider\n",
    "    return table"
   ]
  },
  {
   "cell_type": "code",
   "execution_count": 5,
   "id": "3f7b30ec",
   "metadata": {},
   "outputs": [
    {
     "name": "stdout",
     "output_type": "stream",
     "text": [
      "done\n"
     ]
    }
   ],
   "source": [
    "seq = ''\n",
    "seqs_count = 0\n",
    "res_table = {}\n",
    "\n",
    "for seq_record in SeqIO.parse(file_path, \"fasta\"):\n",
    "    seq = seq_record.seq\n",
    "    counts = codons_counts(seq)\n",
    "    coocurrencies = codons_percents(counts)\n",
    "    res_table = sum_tables(generate_table(), res_table, coocurrencies)\n",
    "    seqs_count += 1\n",
    "\n",
    "divide_each_value_in_table(res_table, seqs_count)\n",
    "print('done')"
   ]
  },
  {
   "cell_type": "code",
   "execution_count": 6,
   "id": "6b8f8591",
   "metadata": {},
   "outputs": [],
   "source": [
    "import csv\n",
    "with open(os.path.join(dataset_path, file_name + '.csv'), 'w', newline='') as csvfile:\n",
    "    fieldnames = ['codon'] + list(res_table.keys())\n",
    "    writer = csv.DictWriter(csvfile, fieldnames=fieldnames, delimiter='|')\n",
    "\n",
    "    writer.writeheader()\n",
    "    for codon in res_table:\n",
    "        row = res_table[codon]\n",
    "        for num in res_table[codon]:\n",
    "            row[num] = str(row[num]).replace('.', ',')\n",
    "        row['codon'] = codon\n",
    "        writer.writerow(row)"
   ]
  },
  {
   "cell_type": "code",
   "execution_count": 41,
   "id": "1bd71ac1",
   "metadata": {},
   "outputs": [],
   "source": []
  }
 ],
 "metadata": {
  "kernelspec": {
   "display_name": "Python 3 (ipykernel)",
   "language": "python",
   "name": "python3"
  },
  "language_info": {
   "codemirror_mode": {
    "name": "ipython",
    "version": 3
   },
   "file_extension": ".py",
   "mimetype": "text/x-python",
   "name": "python",
   "nbconvert_exporter": "python",
   "pygments_lexer": "ipython3",
   "version": "3.11.4"
  }
 },
 "nbformat": 4,
 "nbformat_minor": 5
}
